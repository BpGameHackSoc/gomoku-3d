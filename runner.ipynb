{
 "cells": [
  {
   "cell_type": "code",
   "execution_count": 1,
   "metadata": {},
   "outputs": [
    {
     "name": "stderr",
     "output_type": "stream",
     "text": [
      "/Library/Frameworks/Python.framework/Versions/3.6/lib/python3.6/site-packages/h5py/__init__.py:36: FutureWarning: Conversion of the second argument of issubdtype from `float` to `np.floating` is deprecated. In future, it will be treated as `np.float64 == np.dtype(float).type`.\n",
      "  from ._conv import register_converters as _register_converters\n",
      "Using TensorFlow backend.\n",
      "/Library/Frameworks/Python.framework/Versions/3.6/lib/python3.6/importlib/_bootstrap.py:219: RuntimeWarning: compiletime version 3.5 of module 'tensorflow.python.framework.fast_tensor_util' does not match runtime version 3.6\n",
      "  return f(*args, **kwds)\n"
     ]
    }
   ],
   "source": [
    "from learner import Teacher, Brain\n",
    "from model import Gomoku\n",
    "from mcts import MCTS\n"
   ]
  },
  {
   "cell_type": "code",
   "execution_count": 2,
   "metadata": {},
   "outputs": [
    {
     "data": {
      "text/plain": [
       "{'blue_q': 2.9577451459548956e-06,\n",
       " 'max_depth': 4,\n",
       " 'n': 407,\n",
       " 'node/s': 135.66666666666666,\n",
       " 'prediction': 2.9577451459548956e-06,\n",
       " 'ranks': array([[11., 27.],\n",
       "        [10., 27.],\n",
       "        [ 7., 27.],\n",
       "        [ 6., 27.],\n",
       "        [ 1., 27.],\n",
       "        [16., 26.],\n",
       "        [15., 26.],\n",
       "        [14., 26.],\n",
       "        [13., 26.],\n",
       "        [12., 26.],\n",
       "        [ 9., 26.],\n",
       "        [ 8., 26.],\n",
       "        [ 5., 26.],\n",
       "        [ 4., 26.],\n",
       "        [ 3., 26.],\n",
       "        [ 2., 26.]]),\n",
       " 'red_q': -2.9577451459548956e-06}"
      ]
     },
     "execution_count": 2,
     "metadata": {},
     "output_type": "execute_result"
    }
   ],
   "source": [
    "# Get info about how fast the MCTS is\n",
    "b = Brain()\n",
    "g = Gomoku()\n",
    "ts = MCTS(b, time=3)\n",
    "root = ts.search(g)\n",
    "ts.stats()"
   ]
  },
  {
   "cell_type": "code",
   "execution_count": 3,
   "metadata": {
    "scrolled": false
   },
   "outputs": [
    {
     "name": "stdout",
     "output_type": "stream",
     "text": [
      "Game 10...\n",
      "Game 20...\n",
      "Model saved in models/game_20.h5\n",
      "Game 30...\n",
      "Last game : 36\n",
      "Model saved in models/game_36.h5\n"
     ]
    }
   ],
   "source": [
    "# If previous model is defined, run as in the example:\n",
    "# t = Teacher(model_path='models/game_100.h5')\n",
    "# If different thinking time required per move, run as:\n",
    "# t = Teacher(think_time=2) # default 1\n",
    "t = Teacher()\n",
    "\n",
    "# Teach the engine\n",
    "# param1: For how many minutes the engine should study\n",
    "# param2: N, where the engine saves its knowledge after each N game to 'models/' folder\n",
    "t.teach(10, 20)"
   ]
  },
  {
   "cell_type": "code",
   "execution_count": null,
   "metadata": {
    "scrolled": false
   },
   "outputs": [],
   "source": [
    "# Match two agents against each other:\n",
    "# param 1-2: H(uman), B(ot), R(andom)\n",
    "# param 3-4: The models the bots use (must be given, even if other agent is played)\n",
    "# insight: print insight knowledge during games\n",
    "# time: thinking time allowed for bots\n",
    "p = Protocol('B', 'B', 'models/game_10.h5', 'models/game_90.h5', insight=True, time=1)\n",
    "# Run N game\n",
    "p.run(1)"
   ]
  },
  {
   "cell_type": "markdown",
   "metadata": {},
   "source": [
    "g = Gomoku()\n",
    "search = MCTS(g)\n",
    "b,r,d = search.run()"
   ]
  },
  {
   "cell_type": "code",
   "execution_count": null,
   "metadata": {},
   "outputs": [],
   "source": []
  }
 ],
 "metadata": {
  "kernelspec": {
   "display_name": "Python 3",
   "language": "python",
   "name": "python3"
  },
  "language_info": {
   "codemirror_mode": {
    "name": "ipython",
    "version": 3
   },
   "file_extension": ".py",
   "mimetype": "text/x-python",
   "name": "python",
   "nbconvert_exporter": "python",
   "pygments_lexer": "ipython3",
   "version": "3.6.4"
  }
 },
 "nbformat": 4,
 "nbformat_minor": 2
}
